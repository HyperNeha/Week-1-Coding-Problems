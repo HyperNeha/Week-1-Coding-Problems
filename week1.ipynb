{
 "cells": [
  {
   "cell_type": "markdown",
   "metadata": {},
   "source": [
    "Question 1: Create a program that reads two integers, a and b, from the user. Your program should compute and display: 1. The sum of a and b. 2. The difference when b is subtracted from a 3. The product of a and b 4. The quotient when a is divided by b 5. The remainder when a is divided by b 6. The result of  7. The result of"
   ]
  },
  {
   "cell_type": "code",
   "execution_count": 4,
   "metadata": {},
   "outputs": [
    {
     "name": "stdout",
     "output_type": "stream",
     "text": [
      "15\n",
      "11\n",
      "26\n",
      "6\n",
      "1\n",
      "1.1139433523068367\n",
      "169\n"
     ]
    }
   ],
   "source": [
    "import math\n",
    "a = input(\"Enter a number: \")\n",
    "b = input(\"Enter a number: \")\n",
    "\n",
    "#set a and b as integar\n",
    "a =int(a)\n",
    "b = int(b)\n",
    "\n",
    "#sum\n",
    "sum = a+b\n",
    "print(sum)\n",
    "\n",
    "#difference\n",
    "difference = a-b\n",
    "print(difference)\n",
    "\n",
    "#product of a & b\n",
    "product = a*b\n",
    "print(product)\n",
    "\n",
    "#quotient when a is divided by b\n",
    "quotient = a//b\n",
    "print(quotient)\n",
    "\n",
    "#remainder when a is divided by b\n",
    "remainder= a%b\n",
    "print(remainder)\n",
    "\n",
    "#calculate log_{10}a\n",
    "log_numbers = math.log10(a)\n",
    "print(log_numbers)\n",
    "\n",
    "# The result of a raised to b\n",
    "exp_num = a**b\n",
    "print(exp_num)"
   ]
  },
  {
   "cell_type": "markdown",
   "metadata": {},
   "source": [
    "2. In the US, fuel efficiency for vehicles is normally expressed in miles-per-gallon (*MPG*). In Canada, fuel efficiency is normally expressed in liters-per-hundred-kilometers *(L/100 km)*. Use your research skills to determine how to convert from *MPG* to *L/100 km*. Then create a program that reads a value from the user (in American units) and displays the equivalent fuel efficiency in Canadian units.\n",
    "    You can use Google to research and use both the `input()` command to receive user input and the `print()` command to return results to the console or the terminal.*"
   ]
  },
  {
   "cell_type": "code",
   "execution_count": 5,
   "metadata": {},
   "outputs": [
    {
     "name": "stdout",
     "output_type": "stream",
     "text": [
      "0.06805844907407407\n"
     ]
    }
   ],
   "source": [
    "mpg = float(input(\"Enter the fuel in miles per gallon: \"))\n",
    "convert = 235.21/mpg\n",
    "print(convert)\n"
   ]
  },
  {
   "cell_type": "markdown",
   "metadata": {},
   "source": [
    "3. The surface of the earth is curved, and the distance between degrees of longitude varies with latitude. As a result, finding the distance between two points on the surface of the earth is more complicated than simply using the Pythagorean theorem. The equation for finding the distance between two points on the surface of the earth in kilometers is given by:\n",
    "    \n",
    "    $distance = 6371.01 \\times arccos(sin(lat_1) \\times sin(lat_2)+cos(lat_1)\\times cos(lat_2)\\times cos(long_1-long_2))$\n",
    "    \n",
    "    where: $(lat_1, long_1)$ and $(lat_2,long_2)$  are the latitude and longitude of two points on the Earth’s surface.\n",
    "    \n",
    "    Create a program that allows the user to enter the latitude and longitude of two points on the Earth in degrees. Your program should display the distance between the points in kilometers.\n",
    "    \n",
    "    Also assuming we travel using an aeroplane that is moving at a minimum speed of `740 km/h` how long will it take us to travel that distance\n",
    "    Hint:Allow your program receive 4 user inputs for 4 different latitudes and longitudes on the earth. Choose any 2 locations using google maps (or google search) and get their latitude and longitude values. When printing the outputs, use the names of the locations to display the distance between locations. Longitude and latitude values are usually shown in degrees, while python usually calculates trigonometric functions using radians, therefore you will need to first convert the values to radians to use in the equation. Precedence of operations is important. Use `math` module*"
   ]
  },
  {
   "cell_type": "code",
   "execution_count": 12,
   "metadata": {},
   "outputs": [
    {
     "name": "stdout",
     "output_type": "stream",
     "text": [
      "Distance between india and sweden is 6404.511712376131 km \n"
     ]
    }
   ],
   "source": [
    "import math\n",
    "\n",
    "#lat_india= 20.59368, long_india= 78.96288\n",
    "#lat_swe= 60.128161, long_swe= 18.643501\n",
    "\n",
    "current_country = input('Enter your current country: ')\n",
    "lat_1 = math.radians(float(input('Enter the lat of current country: ')))\n",
    "long_1 = math.radians(float(input('Enter the longitude of current country: ')))\n",
    "\n",
    "destination_country = input('Enter your destination country: ')\n",
    "lat_2 = math.radians(float(input('Enter the latitude of destination country: ')))\n",
    "long_2 = math.radians(float(input('Enter the longitude of destination country')))\n",
    "\n",
    "distance = 6371.01*math.acos(math.sin(lat_1)*math.sin(lat_2)+math.cos(lat_1)*math.cos(lat_2)*math.cos(long_1-long_2))\n",
    "print(f'Distance between {current_country} and {destination_country} is {distance} km ')"
   ]
  },
  {
   "cell_type": "markdown",
   "metadata": {},
   "source": [
    "4. Distance units: Create a program that begins by reading a measurement from the user in feet. Then your program should display the equivalent distance in inches, yards and miles. Use your research skills to look up the necessary conversion factors.\n",
    "\n",
    "Hint: Use the input() function, but add a little spice to it, by displaying a prompt for the user to understand they are inputting a value in feet."
   ]
  },
  {
   "cell_type": "code",
   "execution_count": 15,
   "metadata": {},
   "outputs": [
    {
     "name": "stdout",
     "output_type": "stream",
     "text": [
      "1354.0 is measurement in feet\n",
      "1354.0 feet is 16248.0 inches\n",
      "1354.0 feet is 451.3333333333333 yards\n",
      "1354.0 feet is 0.25643939393939397 miles\n"
     ]
    }
   ],
   "source": [
    "import math\n",
    "\n",
    "measurement_feet = float(input('Enter the measurement in feet: '))\n",
    "measurement_inches = measurement_feet*12\n",
    "measurement_yards = measurement_feet/3\n",
    "measurement_miles = measurement_feet/5280\n",
    "\n",
    "print(f\"{measurement_feet} is measurement in feet\")\n",
    "print(f\"{measurement_feet} feet is {measurement_inches} inches\")\n",
    "print(f\"{measurement_feet} feet is {measurement_yards} yards\")\n",
    "print(f\"{measurement_feet} feet is {measurement_miles} miles\")\n",
    "\n"
   ]
  },
  {
   "cell_type": "markdown",
   "metadata": {},
   "source": [
    "5. Area of a regular polygon: A polygon is regular if its sides are all the same length and the angles between all of the adjacent sides are equal. The area of a regular polygon can be computed using the following formula, where *s* is the length of a side and *n* is the number of sides.\n",
    "\n",
    "$\\boxed{area = \\frac {n \\times s^2} {4 \\times \\tan (\\frac{\\pi}{n})} }$\n",
    "\n",
    "Write a program that reads *s* and *n* from the user and then displays the area of a regular polygon constructed from these values."
   ]
  },
  {
   "cell_type": "code",
   "execution_count": 21,
   "metadata": {},
   "outputs": [
    {
     "name": "stdout",
     "output_type": "stream",
     "text": [
      "area of a polygon is 20.096189432334203\n"
     ]
    }
   ],
   "source": [
    "import math\n",
    "\n",
    "length_of_sides = float(input('Enter the length of a side: '))\n",
    "number_of_sides = int(input('Enter the number of sides: '))\n",
    "\n",
    "area_of_polygon = number_of_sides*length_of_sides**2/4*math.tan(math.pi/number_of_sides)\n",
    "print(f\"area of a polygon is {area_of_polygon}\")"
   ]
  },
  {
   "cell_type": "markdown",
   "metadata": {},
   "source": [
    "6. Current Time Python has a couple of modules that can be used when working with time. This includes a module called time and a function/method within the time module called asctime. It reads the current time from the computer’s internal clock and returns it in a human-readable format. Write a program that displays the current time and date. Your program will not require any input from the user."
   ]
  },
  {
   "cell_type": "code",
   "execution_count": 18,
   "metadata": {},
   "outputs": [
    {
     "name": "stdout",
     "output_type": "stream",
     "text": [
      "Wed Dec  7 15:46:55 2022\n"
     ]
    }
   ],
   "source": [
    "import time\n",
    "current_time_date = time.localtime()\n",
    "print(time.asctime(current_time_date))\n"
   ]
  },
  {
   "cell_type": "markdown",
   "metadata": {},
   "source": [
    "7. Wind Chill Index: When the wind blows in cold weather, the air feels even colder that it actually is because the movement of the air increases the rate of cooling for warm objects, like people. This effect is known as wind chill.\n",
    "    \n",
    "    The formula below is used to compute the wind chill index. \n",
    "    \n",
    "    $WCI = 13.12 + 0.6215T_a - 11.37V^{0.16}+0.3965T_aV^{0.16}$\n",
    "    \n",
    "    Where: $T_a$ is the air temperature in degrees Celsius and $V$ is the wind speed in kilometers per hour. Write a program that begins by reading the air temperature and wind speed from the user. Once these values have been read, your program should display the wind chill index rounded to the closes integer.\n",
    "Hint:Use the `round()` python inbuilt function to round values to a determinate number of decimal places.*"
   ]
  },
  {
   "cell_type": "code",
   "execution_count": 23,
   "metadata": {},
   "outputs": [
    {
     "name": "stdout",
     "output_type": "stream",
     "text": [
      "The wind chill index is -19\n"
     ]
    }
   ],
   "source": [
    "import math\n",
    "\n",
    "air_temperature = float(input('Enter the air temperature in celcius: '))\n",
    "wind_speed = float(input('Enter the wind speed in km/hr: '))\n",
    "\n",
    "WCI = round(13.12 + (0.6215*air_temperature) - (11.37*wind_speed**0.16) + (0.3965*air_temperature*wind_speed**0.16))\n",
    "\n",
    "print(f\"The wind chill index is {WCI}\")"
   ]
  },
  {
   "cell_type": "markdown",
   "metadata": {},
   "source": [
    "8. Sum of digits in an integer: Develop a program that reads a four digit integer from the user and displays the sum of the digits in the number. For example, if the user enters 3141 then your program should display the result of the sum $3+1+4+1=9$.\n",
    "Hint:Type conversion, string split operation, python sum operation."
   ]
  },
  {
   "cell_type": "code",
   "execution_count": 25,
   "metadata": {},
   "outputs": [
    {
     "name": "stdout",
     "output_type": "stream",
     "text": [
      "The sum of the digits of the provided number is 10\n"
     ]
    }
   ],
   "source": [
    "num = (input(\"Enter a four-digit number\"))\n",
    "\n",
    "sumint = int(num[0]) + int(num[1]) + int(num[2]) + int(num[3])\n",
    "print(\"The sum of the digits of the provided number is \" + str(sumint))\n"
   ]
  }
 ],
 "metadata": {
  "kernelspec": {
   "display_name": "Python 3.9.13 ('base')",
   "language": "python",
   "name": "python3"
  },
  "language_info": {
   "codemirror_mode": {
    "name": "ipython",
    "version": 3
   },
   "file_extension": ".py",
   "mimetype": "text/x-python",
   "name": "python",
   "nbconvert_exporter": "python",
   "pygments_lexer": "ipython3",
   "version": "3.9.13"
  },
  "orig_nbformat": 4,
  "vscode": {
   "interpreter": {
    "hash": "2043299c89c8cd0b4d1a6f5cf4529bd58e6a4e0fe3181a25e0d328c821cdc5c5"
   }
  }
 },
 "nbformat": 4,
 "nbformat_minor": 2
}
